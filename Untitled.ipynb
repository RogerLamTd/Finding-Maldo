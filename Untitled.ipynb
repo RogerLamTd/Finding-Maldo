{
 "cells": [
  {
   "cell_type": "code",
   "execution_count": 2,
   "metadata": {},
   "outputs": [],
   "source": [
    "import io\n",
    "import os\n",
    "from google.cloud import vision\n",
    "\n",
    "os.environ[\"GOOGLE_APPLICATION_CREDENTIALS\"]=\"/Users/roger/Documents/GitHub/Finding-Maldo/key.json\"\n",
    "\n",
    "client = vision.ImageAnnotatorClient()\n",
    "\n",
    "\n"
   ]
  },
  {
   "cell_type": "code",
   "execution_count": 3,
   "metadata": {},
   "outputs": [],
   "source": [
    "def label_image():\n",
    "    file_name = os.path.abspath('/Users/roger/Documents/GitHub/Finding-Maldo/unknown.png')\n",
    "\n",
    "    image_file = io.open(file_name, 'rb')\n",
    "    content = image_file.read()\n",
    "\n",
    "    image = vision.Image(content = content)\n",
    "    response = client.label_detection(image=image)\n",
    "    labels = response.label_annotations\n",
    "\n",
    "    print('Labels (and confidence score):')\n",
    "    print('=' * 30)\n",
    "    for label in labels:\n",
    "        print(label.description, '(%.2f%%)' % (label.score*100.))"
   ]
  },
  {
   "cell_type": "code",
   "execution_count": 17,
   "metadata": {},
   "outputs": [],
   "source": [
    "def face_recog():\n",
    "    file_name = os.path.abspath('/Users/roger/Documents/GitHub/Finding-Maldo/mask_test.png')\n",
    "\n",
    "    image_file = io.open(file_name, 'rb')\n",
    "    content = image_file.read()\n",
    "    \n",
    "    image = vision.Image(content=content)\n",
    "    response = client.face_detection(image=image, maxResults=50)\n",
    "    faces = response.face_annotations\n",
    "    \n",
    "    print('Faces:')\n",
    "    \n",
    "    likelihood_name = ('UNKNOWN', 'VERY_UNLIKELY', 'UNLIKELY', 'POSSIBLE',\n",
    "                       'LIKELY', 'VERY_LIKELY')\n",
    "\n",
    "    for face in faces:\n",
    "        print('anger: {}'.format(likelihood_name[face.anger_likelihood]))\n",
    "        print('joy: {}'.format(likelihood_name[face.joy_likelihood]))\n",
    "        print('surprise: {}'.format(likelihood_name[face.surprise_likelihood]))\n",
    "              \n",
    "        vertices = (['({},{})'.format(vertex.x, vertex.y)\n",
    "                    for vertex in face.bounding_poly.vertices])\n",
    "\n",
    "        print('face bounds: {}'.format(','.join(vertices)))"
   ]
  },
  {
   "cell_type": "markdown",
   "metadata": {},
   "source": [
    "\n",
    "    response = client.face_detection(image=image)\n",
    "    faces = response.face_annotations\n",
    "    print(faces)\n",
    "\n",
    "    print('Faces:')\n",
    "    \n",
    "    likelihood_name = ('UNKNOWN', 'VERY_UNLIKELY', 'UNLIKELY', 'POSSIBLE',\n",
    "                       'LIKELY', 'VERY_LIKELY')\n",
    "\n",
    "    for face in faces:\n",
    "        print('anger: {}'.format(likelihood_name[face.anger_likelihood]))\n",
    "        print('joy: {}'.format(likelihood_name[face.joy_likelihood]))\n",
    "        print('surprise: {}'.format(likelihood_name[face.surprise_likelihood]))\n",
    "              \n",
    "        vertices = (['({},{})'.format(vertex.x, vertex.y)\n",
    "                    for vertex in face.bounding_poly.vertices])\n",
    "\n",
    "        print('face bounds: {}'.format(','.join(vertices)))\n"
   ]
  },
  {
   "cell_type": "code",
   "execution_count": 20,
   "metadata": {},
   "outputs": [],
   "source": [
    "def detect_faces(path):\n",
    "    \"\"\"Detects faces in an image.\"\"\"\n",
    "    from google.cloud import vision\n",
    "    import io\n",
    "    client = vision.ImageAnnotatorClient()\n",
    "\n",
    "    with io.open(path, 'rb') as image_file:\n",
    "        content = image_file.read()\n",
    "\n",
    "    image = vision.Image(content=content)\n",
    "\n",
    "    response = client.face_detection(image=image, max_results=50)\n",
    "    faces = response.face_annotations\n",
    "\n",
    "    # Names of likelihood from google.cloud.vision.enums\n",
    "    likelihood_name = ('UNKNOWN', 'VERY_UNLIKELY', 'UNLIKELY', 'POSSIBLE',\n",
    "                       'LIKELY', 'VERY_LIKELY')\n",
    "    print('Faces:')\n",
    "\n",
    "    for face in faces:\n",
    "\n",
    "\n",
    "        vertices = (['({},{})'.format(vertex.x, vertex.y)\n",
    "                    for vertex in face.bounding_poly.vertices])\n",
    "\n",
    "        print('face bounds: {}'.format(','.join(vertices)))\n",
    "\n",
    "    if response.error.message:\n",
    "        raise Exception(\n",
    "            '{}\\nFor more info on error messages, check: '\n",
    "            'https://cloud.google.com/apis/design/errors'.format(\n",
    "                response.error.message))"
   ]
  },
  {
   "cell_type": "code",
   "execution_count": 30,
   "metadata": {},
   "outputs": [
    {
     "name": "stdout",
     "output_type": "stream",
     "text": [
      "Faces:\n",
      "face bounds: (32,116),(52,116),(52,139),(32,139)\n",
      "face bounds: (282,22),(302,22),(302,45),(282,45)\n",
      "face bounds: (238,339),(258,339),(258,363),(238,363)\n",
      "face bounds: (194,366),(217,366),(217,392),(194,392)\n",
      "face bounds: (97,35),(116,35),(116,57),(97,57)\n",
      "face bounds: (213,3),(232,3),(232,25),(213,25)\n",
      "face bounds: (421,290),(442,290),(442,314),(421,314)\n",
      "face bounds: (272,446),(292,446),(292,469),(272,469)\n",
      "face bounds: (4,278),(26,278),(26,304),(4,304)\n",
      "face bounds: (248,178),(269,178),(269,201),(248,201)\n",
      "face bounds: (296,191),(316,191),(316,214),(296,214)\n",
      "face bounds: (87,263),(109,263),(109,288),(87,288)\n",
      "face bounds: (319,431),(342,431),(342,457),(319,457)\n",
      "face bounds: (81,63),(101,63),(101,86),(81,86)\n",
      "face bounds: (214,99),(233,99),(233,121),(214,121)\n",
      "face bounds: (405,359),(426,359),(426,383),(405,383)\n",
      "face bounds: (438,425),(462,425),(462,453),(438,453)\n",
      "face bounds: (423,482),(441,482),(441,499),(423,499)\n",
      "face bounds: (327,1),(346,1),(346,24),(327,24)\n",
      "face bounds: (38,268),(62,268),(62,296),(38,296)\n",
      "face bounds: (151,92),(171,92),(171,116),(151,116)\n",
      "face bounds: (227,421),(253,421),(253,451),(227,451)\n",
      "face bounds: (363,196),(382,196),(382,217),(363,217)\n",
      "face bounds: (136,159),(156,159),(156,183),(136,183)\n",
      "face bounds: (83,130),(101,130),(101,151),(83,151)\n",
      "face bounds: (49,13),(68,13),(68,35),(49,35)\n",
      "face bounds: (451,147),(471,147),(471,170),(451,170)\n",
      "face bounds: (252,0),(272,0),(272,23),(252,23)\n",
      "face bounds: (482,109),(499,109),(499,132),(482,132)\n",
      "face bounds: (295,262),(315,262),(315,285),(295,285)\n",
      "face bounds: (122,114),(146,114),(146,141),(122,141)\n",
      "face bounds: (241,363),(264,363),(264,389),(241,389)\n",
      "face bounds: (388,273),(412,273),(412,301),(388,301)\n",
      "face bounds: (122,355),(143,355),(143,379),(122,379)\n",
      "face bounds: (175,344),(198,344),(198,371),(175,371)\n",
      "face bounds: (66,360),(90,360),(90,388),(66,388)\n",
      "face bounds: (141,0),(160,0),(160,20),(141,20)\n",
      "face bounds: (264,102),(284,102),(284,125),(264,125)\n",
      "face bounds: (292,361),(313,361),(313,387),(292,387)\n",
      "face bounds: (16,366),(41,366),(41,396),(16,396)\n",
      "face bounds: (107,97),(126,97),(126,119),(107,119)\n",
      "face bounds: (90,440),(111,440),(111,465),(90,465)\n",
      "face bounds: (168,450),(191,450),(191,477),(168,477)\n",
      "face bounds: (422,261),(445,261),(445,287),(422,287)\n",
      "face bounds: (331,163),(349,163),(349,183),(331,183)\n",
      "face bounds: (376,470),(399,470),(399,496),(376,496)\n",
      "face bounds: (373,374),(398,374),(398,403),(373,403)\n",
      "face bounds: (447,125),(466,125),(466,147),(447,147)\n",
      "face bounds: (463,403),(486,403),(486,430),(463,430)\n",
      "face bounds: (456,175),(478,175),(478,199),(456,199)\n"
     ]
    }
   ],
   "source": [
    "detect_faces('/Users/roger/Documents/GitHub/Finding-Maldo/test_500_500.png')\n"
   ]
  },
  {
   "cell_type": "code",
   "execution_count": 28,
   "metadata": {},
   "outputs": [
    {
     "name": "stdout",
     "output_type": "stream",
     "text": [
      "src crowd photo w: 1920, h: 1080\n"
     ]
    }
   ],
   "source": [
    "from PIL import Image\n",
    "import random\n",
    "crowd_image = Image.open('/Users/roger/Documents/GitHub/Finding-Maldo/mask_test.png')\n",
    "im_w, im_h = crowd_image.width, crowd_image.height\n",
    "print(\"src crowd photo w: {}, h: {}\".format(im_w, im_h))\n",
    "\n",
    "def crop_image(src_height, src_width):\n",
    "\n",
    "    # max y-axis variation\n",
    "    max_hfactor_val = im_h - src_height\n",
    "\n",
    "    # max x-axis variation\n",
    "    max_wfactor_val = im_w - src_width\n",
    "\n",
    "    # get random shift in y-axis, x-axis rounded to nearest integer\n",
    "    randh = int(max_hfactor_val*random.random())\n",
    "    randw = int(max_wfactor_val*random.random())\n",
    "\n",
    "    print(\"new lower bound on image w: {}, h: {}\".format(randh, randw))\n",
    "\n",
    "    # box = (x0, y0, x1, y1) -> x0 = left boundary y0 = up boundary ...\n",
    "    x0 = randw\n",
    "    y0 = randh\n",
    "    x1 = randw + src_width\n",
    "    y1 = randh + src_height\n",
    "    print(\"cropping dimensions left: {}, right: {}, up: {}, down: {}\".format(x0, x1, y0, y1))\n",
    "    ret_img = crowd_image.crop((x0, y0, x1, y1))\n",
    "    print(\"cropped photo w: {}, h: {}\".format(ret_img.width, ret_img.height))\n",
    "    ret_img.save(\"/Users/roger/Documents/GitHub/Finding-Maldo/test_{}_{}.png\".format(src_width, src_height))"
   ]
  },
  {
   "cell_type": "code",
   "execution_count": 29,
   "metadata": {},
   "outputs": [
    {
     "name": "stdout",
     "output_type": "stream",
     "text": [
      "new lower bound on image w: 371, h: 1299\n",
      "cropping dimensions left: 1299, right: 1799, up: 371, down: 871\n",
      "cropped photo w: 500, h: 500\n"
     ]
    }
   ],
   "source": [
    "crop_image(500,500)"
   ]
  },
  {
   "cell_type": "code",
   "execution_count": null,
   "metadata": {},
   "outputs": [],
   "source": []
  }
 ],
 "metadata": {
  "kernelspec": {
   "display_name": "Python 3",
   "language": "python",
   "name": "python3"
  },
  "language_info": {
   "codemirror_mode": {
    "name": "ipython",
    "version": 3
   },
   "file_extension": ".py",
   "mimetype": "text/x-python",
   "name": "python",
   "nbconvert_exporter": "python",
   "pygments_lexer": "ipython3",
   "version": "3.9.1"
  }
 },
 "nbformat": 4,
 "nbformat_minor": 4
}
